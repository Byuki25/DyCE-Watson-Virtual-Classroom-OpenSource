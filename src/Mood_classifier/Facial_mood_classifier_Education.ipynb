{
 "cells": [
  {
   "cell_type": "markdown",
   "metadata": {},
   "source": [
    "### Import the required libraries for OpenCV and Keras"
   ]
  },
  {
   "cell_type": "code",
   "execution_count": null,
   "metadata": {},
   "outputs": [],
   "source": [
    "from tensorflow import keras\n",
    "from keras.preprocessing.image import img_to_array\n",
    "import imutils\n",
    "import cv2\n",
    "from keras.models import load_model\n",
    "import numpy as np\n",
    "#from config import Moodkey"
   ]
  },
  {
   "cell_type": "markdown",
   "metadata": {},
   "source": [
    "### Load data and images model path "
   ]
  },
  {
   "cell_type": "code",
   "execution_count": 2,
   "metadata": {},
   "outputs": [],
   "source": [
    "# parameters for loading data and images\n",
    "detection_model_path = 'files/haarcascade_frontalface_default.xml'\n",
    "emotion_model_path = 'models/_mini_XCEPTION.106-0.65.hdf5'"
   ]
  },
  {
   "cell_type": "markdown",
   "metadata": {},
   "source": [
    "### Load the models for face detection and trained emotion classifier"
   ]
  },
  {
   "cell_type": "code",
   "execution_count": 3,
   "metadata": {},
   "outputs": [],
   "source": [
    "# hyper-parameters for bounding boxes shape\n",
    "# loading models\n",
    "face_detection = cv2.CascadeClassifier(detection_model_path)\n",
    "emotion_classifier = load_model(emotion_model_path, compile=False)\n",
    "#EMOTIONS = [\"angry\" ,\"disgust\",\"scared\", \"happy\", \"sad\", \"surprised\", \"neutral\"]\n",
    "EMOTIONS = [\"angry\",\"disgust\", \"scared\", \"confused\", \"sad\", \"happy\", \"neutral\"]"
   ]
  },
  {
   "cell_type": "markdown",
   "metadata": {},
   "source": [
    "### Twilio package to send notifications based on mood thresholds"
   ]
  },
  {
   "cell_type": "code",
   "execution_count": 4,
   "metadata": {},
   "outputs": [],
   "source": [
    "def probability_measure_func(emotion_probability, label, count):\n",
    "    \n",
    "    # Download the helper library from https://www.twilio.com/docs/python/install\n",
    "    from twilio.rest import Client\n",
    "\n",
    "    client = Client(account_sid, auth_token)\n",
    "\n",
    "    if (emotion_probability>0.30 and label !=\"neutral\"):\n",
    "        print('emotion probability : ' + str(emotion_probability) + 'with label:' + str(label) + \"\\n\")\n",
    "        \n",
    "        if (emotion_probability > 0.70 and label == \"confused\" and count ==0):\n",
    "            message = client.messages \\\n",
    "                        .create(\n",
    "                             body=\"Happy to answer any questions! What are you confused about?\",\n",
    "                             from_='+1xxxxxxxxxx',\n",
    "                             to='+1xxxxxxxxxx'\n",
    "                         )\n",
    "            count = 1\n",
    "            print(message.sid)\n",
    "    \n",
    "        if (emotion_probability > 0.75 and label == \"confused\" and count ==1):\n",
    "            message = client.messages \\\n",
    "                        .create(\n",
    "                             body=\"Route to chatbot for further engagement\",\n",
    "                             from_='+1xxxxxxxxxx',\n",
    "                             to='+1xxxxxxxxxx'\n",
    "                         )\n",
    "            count = 1\n",
    "            print(message.sid) \n",
    "            \n",
    "        if (emotion_probability > 0.30 and (label == \"angry\" or label == \"sad\") and count ==1):\n",
    "            message = client.messages \\\n",
    "                        .create(\n",
    "                             body=\"All is well buddy! You are enough! Join Earth's mightiest heroes. Like Kevin Bacon.\",\n",
    "                             from_='+1xxxxxxxxxx',\n",
    "                             to='+1xxxxxxxxxx'\n",
    "                         )\n",
    "            count = 1\n",
    "            print(message.sid)\n",
    "        \n",
    "        if (count ==0 and emotion_probability > 0.30 and (label == \"angry\" or label ==\"sad\")):\n",
    "            message = client.messages \\\n",
    "                        .create(\n",
    "                             body=\"Come on now! Here's a happy song mate: https://www.youtube.com/watch?v=xoqzf7x5J08\",\n",
    "                             from_='+1xxxxxxxxxx',\n",
    "                             to='+1xxxxxxxxxx'\n",
    "                         )\n",
    "            count = 1\n",
    "            print(message.sid)\n",
    "    "
   ]
  },
  {
   "cell_type": "markdown",
   "metadata": {},
   "source": [
    "### Invoke Chatbot for interaction based on emotion probability"
   ]
  },
  {
   "cell_type": "code",
   "execution_count": 5,
   "metadata": {},
   "outputs": [],
   "source": [
    "def call_watson_chatbot(emotion_probability, label):\n",
    "    from ibm_watson import AssistantV2\n",
    "    assistant = AssistantV2(\n",
    "        version='3.4.0',\n",
    "        #iam_apikey= Moodkey,\n",
    "        url='https://gateway.watsonplatform.net/assistant/api'\n",
    "        )\n",
    "    #API to call/instantiate watson chatbot here\n",
    "    #I want watson chatbot to now send me a message and start interacting. Future version"
   ]
  },
  {
   "cell_type": "markdown",
   "metadata": {},
   "source": [
    "### Start the video streaming and capturing student's emotions as the lecture progresses! "
   ]
  },
  {
   "cell_type": "code",
   "execution_count": null,
   "metadata": {},
   "outputs": [],
   "source": [
    "# starting video streaming\n",
    "cv2.namedWindow('your_face')\n",
    "camera = cv2.VideoCapture(0)\n",
    "count = 0\n",
    "\n",
    "    \n",
    "while True:\n",
    "    frame = camera.read()[1]\n",
    "    #reading the frame\n",
    "    frame = imutils.resize(frame,width=400)\n",
    "    gray = cv2.cvtColor(frame, cv2.COLOR_BGR2GRAY)\n",
    "    faces = face_detection.detectMultiScale(gray,scaleFactor=1.1,minNeighbors=5,minSize=(30,30),flags=cv2.CASCADE_SCALE_IMAGE)\n",
    "    \n",
    "        \n",
    "    canvas = np.zeros((300, 300, 3), dtype=\"uint8\")\n",
    "    frameClone = frame.copy()\n",
    "    if len(faces) > 0:\n",
    "        faces = sorted(faces, reverse=True,\n",
    "        key=lambda x: (x[2] - x[0]) * (x[3] - x[1]))[0]\n",
    "        (fX, fY, fW, fH) = faces\n",
    "        # Extract the ROI of the face from the grayscale image, resize it to a fixed 48x48 pixels, and then prepare\n",
    "            # the ROI for classification via the CNN\n",
    "        roi = gray[fY:fY + fH, fX:fX + fW]\n",
    "        roi = cv2.resize(roi, (48, 48))\n",
    "        roi = roi.astype(\"float\") / 255.0\n",
    "        roi = img_to_array(roi)\n",
    "        roi = np.expand_dims(roi, axis=0)\n",
    "    \n",
    "        preds = emotion_classifier.predict(roi)[0]\n",
    "        emotion_probability = np.max(preds)\n",
    "        label = EMOTIONS[preds.argmax()]\n",
    "        \n",
    "       # if(emotion_probability > 0.30):\n",
    "        #    probability_measure_func(emotion_probability, label, count)\n",
    "            \n",
    "            \n",
    "        for (i, (emotion, prob)) in enumerate(zip(EMOTIONS, preds)):\n",
    "                # construct the label text\n",
    "                text = \"{}: {:.2f}%\".format(emotion, prob * 100)\n",
    "                w = int(prob * 300)\n",
    "                cv2.rectangle(canvas, (7, (i * 35) + 5),\n",
    "                (w, (i * 35) + 35), (0, 0, 255), -1)\n",
    "                cv2.putText(canvas, text, (10, (i * 35) + 23),\n",
    "                cv2.FONT_HERSHEY_SIMPLEX, 0.45,\n",
    "                (255, 255, 255), 2)\n",
    "                cv2.putText(frameClone, label, (fX, fY - 10),\n",
    "                cv2.FONT_HERSHEY_SIMPLEX, 0.45, (0, 0, 255), 2)\n",
    "                cv2.rectangle(frameClone, (fX, fY), (fX + fW, fY + fH),\n",
    "                              (0, 0, 255), 2)\n",
    "\n",
    "    cv2.imshow('your_face', frameClone)\n",
    "    cv2.imshow(\"Probabilities\", canvas)\n",
    "    if cv2.waitKey(1) & 0xFF == ord('q'):\n",
    "        break\n",
    "\n",
    "camera.release()\n",
    "cv2.destroyAllWindows()"
   ]
  }
 ],
 "metadata": {
  "kernelspec": {
   "display_name": "Python 3",
   "language": "python",
   "name": "python3"
  },
  "language_info": {
   "codemirror_mode": {
    "name": "ipython",
    "version": 3
   },
   "file_extension": ".py",
   "mimetype": "text/x-python",
   "name": "python",
   "nbconvert_exporter": "python",
   "pygments_lexer": "ipython3",
   "version": "3.7.6"
  }
 },
 "nbformat": 4,
 "nbformat_minor": 2
}
