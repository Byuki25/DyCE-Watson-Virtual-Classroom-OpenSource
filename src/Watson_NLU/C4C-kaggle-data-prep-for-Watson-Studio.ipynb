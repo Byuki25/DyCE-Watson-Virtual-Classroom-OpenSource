{
 "cells": [
  {
   "cell_type": "code",
   "execution_count": 1,
   "metadata": {},
   "outputs": [],
   "source": [
    "import pandas as pd\n",
    "import numpy as np"
   ]
  },
  {
   "cell_type": "code",
   "execution_count": 2,
   "metadata": {},
   "outputs": [],
   "source": [
    "df = pd.read_table('./datasets_2735_4525_S10_question_answer_pairs.txt', names=('ArticleTitle','Question','Answer','DifficultyFromQuestioner','DifficultyFromAnswerer','ArticleFile'),encoding = \"ISO-8859-1\")"
   ]
  },
  {
   "cell_type": "code",
   "execution_count": 3,
   "metadata": {},
   "outputs": [
    {
     "data": {
      "text/html": [
       "<div>\n",
       "<style scoped>\n",
       "    .dataframe tbody tr th:only-of-type {\n",
       "        vertical-align: middle;\n",
       "    }\n",
       "\n",
       "    .dataframe tbody tr th {\n",
       "        vertical-align: top;\n",
       "    }\n",
       "\n",
       "    .dataframe thead th {\n",
       "        text-align: right;\n",
       "    }\n",
       "</style>\n",
       "<table border=\"1\" class=\"dataframe\">\n",
       "  <thead>\n",
       "    <tr style=\"text-align: right;\">\n",
       "      <th></th>\n",
       "      <th>ArticleTitle</th>\n",
       "      <th>Question</th>\n",
       "      <th>Answer</th>\n",
       "      <th>DifficultyFromQuestioner</th>\n",
       "      <th>DifficultyFromAnswerer</th>\n",
       "      <th>ArticleFile</th>\n",
       "    </tr>\n",
       "  </thead>\n",
       "  <tbody>\n",
       "    <tr>\n",
       "      <th>0</th>\n",
       "      <td>ArticleTitle</td>\n",
       "      <td>Question</td>\n",
       "      <td>Answer</td>\n",
       "      <td>DifficultyFromQuestioner</td>\n",
       "      <td>DifficultyFromAnswerer</td>\n",
       "      <td>ArticleFile</td>\n",
       "    </tr>\n",
       "    <tr>\n",
       "      <th>1</th>\n",
       "      <td>Alessandro_Volta</td>\n",
       "      <td>Was Alessandro Volta a professor of chemistry?</td>\n",
       "      <td>Alessandro Volta was not a professor of chemis...</td>\n",
       "      <td>easy</td>\n",
       "      <td>easy</td>\n",
       "      <td>S10_set4_a10</td>\n",
       "    </tr>\n",
       "    <tr>\n",
       "      <th>2</th>\n",
       "      <td>Alessandro_Volta</td>\n",
       "      <td>Was Alessandro Volta a professor of chemistry?</td>\n",
       "      <td>No</td>\n",
       "      <td>easy</td>\n",
       "      <td>hard</td>\n",
       "      <td>S10_set4_a10</td>\n",
       "    </tr>\n",
       "    <tr>\n",
       "      <th>3</th>\n",
       "      <td>Alessandro_Volta</td>\n",
       "      <td>Did Alessandro Volta invent the remotely opera...</td>\n",
       "      <td>Alessandro Volta did invent the remotely opera...</td>\n",
       "      <td>easy</td>\n",
       "      <td>easy</td>\n",
       "      <td>S10_set4_a10</td>\n",
       "    </tr>\n",
       "    <tr>\n",
       "      <th>4</th>\n",
       "      <td>Alessandro_Volta</td>\n",
       "      <td>Did Alessandro Volta invent the remotely opera...</td>\n",
       "      <td>Yes</td>\n",
       "      <td>easy</td>\n",
       "      <td>easy</td>\n",
       "      <td>S10_set4_a10</td>\n",
       "    </tr>\n",
       "  </tbody>\n",
       "</table>\n",
       "</div>"
      ],
      "text/plain": [
       "       ArticleTitle                                           Question  \\\n",
       "0      ArticleTitle                                           Question   \n",
       "1  Alessandro_Volta     Was Alessandro Volta a professor of chemistry?   \n",
       "2  Alessandro_Volta     Was Alessandro Volta a professor of chemistry?   \n",
       "3  Alessandro_Volta  Did Alessandro Volta invent the remotely opera...   \n",
       "4  Alessandro_Volta  Did Alessandro Volta invent the remotely opera...   \n",
       "\n",
       "                                              Answer  \\\n",
       "0                                             Answer   \n",
       "1  Alessandro Volta was not a professor of chemis...   \n",
       "2                                                 No   \n",
       "3  Alessandro Volta did invent the remotely opera...   \n",
       "4                                                Yes   \n",
       "\n",
       "   DifficultyFromQuestioner  DifficultyFromAnswerer   ArticleFile  \n",
       "0  DifficultyFromQuestioner  DifficultyFromAnswerer   ArticleFile  \n",
       "1                      easy                    easy  S10_set4_a10  \n",
       "2                      easy                    hard  S10_set4_a10  \n",
       "3                      easy                    easy  S10_set4_a10  \n",
       "4                      easy                    easy  S10_set4_a10  "
      ]
     },
     "execution_count": 3,
     "metadata": {},
     "output_type": "execute_result"
    }
   ],
   "source": [
    "df.head()"
   ]
  },
  {
   "cell_type": "code",
   "execution_count": 4,
   "metadata": {},
   "outputs": [],
   "source": [
    "df.drop(['Answer','DifficultyFromQuestioner','DifficultyFromAnswerer','ArticleFile'],axis=1,inplace=True)"
   ]
  },
  {
   "cell_type": "code",
   "execution_count": 5,
   "metadata": {},
   "outputs": [],
   "source": [
    "df.dropna(inplace=True)"
   ]
  },
  {
   "cell_type": "code",
   "execution_count": 21,
   "metadata": {},
   "outputs": [
    {
     "data": {
      "text/plain": [
       "(1441, 2)"
      ]
     },
     "execution_count": 21,
     "metadata": {},
     "output_type": "execute_result"
    }
   ],
   "source": [
    "df.shape"
   ]
  },
  {
   "cell_type": "code",
   "execution_count": 22,
   "metadata": {},
   "outputs": [],
   "source": [
    "df.drop_duplicates(inplace=True)"
   ]
  },
  {
   "cell_type": "code",
   "execution_count": 25,
   "metadata": {},
   "outputs": [
    {
     "name": "stderr",
     "output_type": "stream",
     "text": [
      "/Users/sanjaykumar/anaconda3/lib/python3.7/site-packages/ipykernel_launcher.py:1: FutureWarning: \n",
      ".ix is deprecated. Please use\n",
      ".loc for label based indexing or\n",
      ".iloc for positional indexing\n",
      "\n",
      "See the documentation here:\n",
      "http://pandas.pydata.org/pandas-docs/stable/user_guide/indexing.html#ix-indexer-is-deprecated\n",
      "  \"\"\"Entry point for launching an IPython kernel.\n"
     ]
    }
   ],
   "source": [
    "np.savetxt('./200_questions_test.txt', df.ix[200:400].values, fmt='%s', delimiter=\"\\t\")"
   ]
  }
 ],
 "metadata": {
  "kernelspec": {
   "display_name": "Python 3",
   "language": "python",
   "name": "python3"
  },
  "language_info": {
   "codemirror_mode": {
    "name": "ipython",
    "version": 3
   },
   "file_extension": ".py",
   "mimetype": "text/x-python",
   "name": "python",
   "nbconvert_exporter": "python",
   "pygments_lexer": "ipython3",
   "version": "3.7.4"
  }
 },
 "nbformat": 4,
 "nbformat_minor": 2
}
